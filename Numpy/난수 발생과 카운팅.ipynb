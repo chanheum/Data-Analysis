{
 "cells": [
  {
   "cell_type": "markdown",
   "id": "d32e14c8",
   "metadata": {},
   "source": [
    "파이썬을 이용하여 데이터를 무작위로 섞거나 임의의 수 즉, 난수(random number)를 발생시키는 방법에 대해 알아본다. 이 기능은 주로 NumPy의 random 서브패키지에서 제공한다.\n",
    "\n",
    "# 시드 설정하기\n",
    "컴퓨터 프로그램에서 발생하는 무작위 수는 사실 엄격한 의미의 무작위 수가 아니다. 어떤 특정한 시작 숫자를 정해 주면 컴퓨터가 정해진 알고리즘에 의해 마치 난수처럼 보이는 수열을 생성한다. 이런 시작 숫자를 시드(seed)라고 한다. 일단 생성된 난수는 다음번 난수 생성을 위한 시드값이 된다. 따라서 시드값은 한 번만 정해주면 된다. 시드는 보통 현재 시각등을 이용하여 자동으로 정해지지만 사람이 수동으로 설정할 수도 있다. 특정한 시드값이 사용되면 그 다음에 만들어지는 난수들은 모두 예측할 수 있다. 이 책에서는 코드의 결과를 재현하기 위해 항상 시드를 설정한다.\n",
    "\n",
    "파이썬에서 시드를 설정하는 함수는 seed이다. 인수로는 0과 같거나 큰 정수를 넣어준다."
   ]
  },
  {
   "cell_type": "code",
   "execution_count": 1,
   "id": "f5b84281",
   "metadata": {},
   "outputs": [],
   "source": [
    "import numpy as np\n",
    "\n",
    "# 시드 설정\n",
    "np.random.seed(0)"
   ]
  },
  {
   "cell_type": "code",
   "execution_count": 3,
   "id": "1d41d534",
   "metadata": {},
   "outputs": [
    {
     "data": {
      "text/plain": [
       "array([0.64589411, 0.43758721, 0.891773  , 0.96366276, 0.38344152])"
      ]
     },
     "execution_count": 3,
     "metadata": {},
     "output_type": "execute_result"
    }
   ],
   "source": [
    "# 위에서 설정한 시드를 가지고 5개 난수를 생성\n",
    "# rand 함수는 0과 1 사이의 난수를 발생시키는 함수임\n",
    "np.random.rand(5)"
   ]
  },
  {
   "cell_type": "code",
   "execution_count": 4,
   "id": "94f93c94",
   "metadata": {},
   "outputs": [
    {
     "data": {
      "text/plain": [
       "array([0.79172504, 0.52889492, 0.56804456, 0.92559664, 0.07103606,\n",
       "       0.0871293 , 0.0202184 , 0.83261985, 0.77815675, 0.87001215])"
      ]
     },
     "execution_count": 4,
     "metadata": {},
     "output_type": "execute_result"
    }
   ],
   "source": [
    "np.random.rand(10)"
   ]
  },
  {
   "cell_type": "code",
   "execution_count": 5,
   "id": "838c475b",
   "metadata": {},
   "outputs": [
    {
     "data": {
      "text/plain": [
       "array([0.97861834, 0.79915856, 0.46147936, 0.78052918, 0.11827443,\n",
       "       0.63992102, 0.14335329, 0.94466892, 0.52184832, 0.41466194])"
      ]
     },
     "execution_count": 5,
     "metadata": {},
     "output_type": "execute_result"
    }
   ],
   "source": [
    "np.random.rand(10)"
   ]
  },
  {
   "cell_type": "code",
   "execution_count": 6,
   "id": "5d53c8f5",
   "metadata": {},
   "outputs": [],
   "source": [
    "# 시드 재설정\n",
    "np.random.seed(0)"
   ]
  },
  {
   "cell_type": "code",
   "execution_count": 7,
   "id": "f6c1da5a",
   "metadata": {},
   "outputs": [
    {
     "data": {
      "text/plain": [
       "array([0.5488135 , 0.71518937, 0.60276338, 0.54488318, 0.4236548 ])"
      ]
     },
     "execution_count": 7,
     "metadata": {},
     "output_type": "execute_result"
    }
   ],
   "source": [
    "np.random.rand(5)"
   ]
  },
  {
   "cell_type": "code",
   "execution_count": 8,
   "id": "d37b93db",
   "metadata": {
    "scrolled": true
   },
   "outputs": [
    {
     "data": {
      "text/plain": [
       "array([0.64589411, 0.43758721, 0.891773  , 0.96366276, 0.38344152,\n",
       "       0.79172504, 0.52889492, 0.56804456, 0.92559664, 0.07103606])"
      ]
     },
     "execution_count": 8,
     "metadata": {},
     "output_type": "execute_result"
    }
   ],
   "source": [
    "np.random.rand(10)"
   ]
  },
  {
   "cell_type": "code",
   "execution_count": 9,
   "id": "5cdb82ff",
   "metadata": {
    "scrolled": true
   },
   "outputs": [
    {
     "data": {
      "text/plain": [
       "array([0.0871293 , 0.0202184 , 0.83261985, 0.77815675, 0.87001215,\n",
       "       0.97861834, 0.79915856, 0.46147936, 0.78052918, 0.11827443])"
      ]
     },
     "execution_count": 9,
     "metadata": {},
     "output_type": "execute_result"
    }
   ],
   "source": [
    "np.random.rand(10)"
   ]
  },
  {
   "cell_type": "markdown",
   "id": "37838313",
   "metadata": {},
   "source": [
    "# 데이터의 순서 바꾸기 - np.random.shuffle(array)\n",
    "데이터의 순서를 바꾸려면 shuffle 함수를 사용한다. shuffle 함수도 자체 변환(in-place) 함수로 한 번 사용하면 변수의 값이 바뀌므로 사용에 주의해야 한다."
   ]
  },
  {
   "cell_type": "code",
   "execution_count": 11,
   "id": "ab70d144",
   "metadata": {},
   "outputs": [
    {
     "data": {
      "text/plain": [
       "array([0, 1, 2, 3, 4, 5, 6, 7, 8, 9])"
      ]
     },
     "execution_count": 11,
     "metadata": {},
     "output_type": "execute_result"
    }
   ],
   "source": [
    "x = np.arange(10)\n",
    "x"
   ]
  },
  {
   "cell_type": "code",
   "execution_count": 12,
   "id": "a4a2b805",
   "metadata": {},
   "outputs": [
    {
     "data": {
      "text/plain": [
       "array([3, 6, 4, 5, 2, 9, 7, 8, 1, 0])"
      ]
     },
     "execution_count": 12,
     "metadata": {},
     "output_type": "execute_result"
    }
   ],
   "source": [
    "np.random.shuffle(x)\n",
    "x"
   ]
  },
  {
   "cell_type": "markdown",
   "id": "cb82e923",
   "metadata": {},
   "source": [
    "# 데이터 샘플링\n",
    "\n",
    "이미 있는 데이터 집합에서 일부를 무작위로 선택하는 것을 표본선택 혹은 샘플링(sampling)이라고 한다. 샘플링에는 choice 함수를 사용한다. choice 함수는 다음과 같은 인수를 가질 수 있다.\n",
    "\n",
    "numpy.random.choice(a, size=None, replace=True, p=None)\n",
    "\n",
    "* a : 배열이면 원래의 데이터, 정수이면 arange(a) 명령으로 데이터 생성\n",
    "* size : 정수. 샘플 숫자\n",
    "* replace : 불리언. True이면 한번 선택한 데이터를 다시 선택 가능\n",
    "* p : 배열. 각 데이터가 선택될 수 있는 확률"
   ]
  },
  {
   "cell_type": "code",
   "execution_count": 17,
   "id": "cbd079cf",
   "metadata": {},
   "outputs": [
    {
     "data": {
      "text/plain": [
       "array([3, 0, 2, 1, 4])"
      ]
     },
     "execution_count": 17,
     "metadata": {},
     "output_type": "execute_result"
    }
   ],
   "source": [
    "np.random.choice(5, 5, replace=False) # shuffle 명령과 같다"
   ]
  },
  {
   "cell_type": "code",
   "execution_count": 21,
   "id": "9a497410",
   "metadata": {},
   "outputs": [
    {
     "data": {
      "text/plain": [
       "array([3, 4, 1])"
      ]
     },
     "execution_count": 21,
     "metadata": {},
     "output_type": "execute_result"
    }
   ],
   "source": [
    "np.random.choice(5, 3, replace=False)  # 3개만 선택"
   ]
  },
  {
   "cell_type": "code",
   "execution_count": 24,
   "id": "c9e20f2f",
   "metadata": {},
   "outputs": [
    {
     "data": {
      "text/plain": [
       "array([3, 3, 3, 3, 3, 0, 2, 2, 2, 2])"
      ]
     },
     "execution_count": 24,
     "metadata": {},
     "output_type": "execute_result"
    }
   ],
   "source": [
    "np.random.choice(5, 10, p = [0.1, 0, 0.3, 0.6, 0]) # 선택확률을 다르게 해서 10개 선택 !!"
   ]
  },
  {
   "cell_type": "markdown",
   "id": "e8e984df",
   "metadata": {},
   "source": [
    "# 난수 생성\n",
    "넘파이의 random 서브패키지는 이외에도 난수를 생성하는 다양한 함수를 제공한다. 그 중 가장 간단하고 많이 사용되는 것은 다음 3가지 함수다.\n",
    "\n",
    "* rand: 0부터 1사이의 균일 분포\n",
    "* randn: 표준 정규 분포\n",
    "* randint: 균일 분포의 정수형 난수\n",
    "\n",
    "rand 함수는 0부터 1사이에서 균일한 확률 분포로 실수 난수를 생성한다. 숫자 인수는 생성할 난수의 크기이다. 여러개의 인수를 넣으면 해당 크기를 가진 행렬을 생성한다."
   ]
  },
  {
   "cell_type": "code",
   "execution_count": 25,
   "id": "fa57f484",
   "metadata": {},
   "outputs": [
    {
     "data": {
      "text/plain": [
       "array([0.31798318, 0.41426299, 0.0641475 , 0.69247212, 0.56660145,\n",
       "       0.26538949, 0.52324805, 0.09394051, 0.5759465 , 0.9292962 ])"
      ]
     },
     "execution_count": 25,
     "metadata": {},
     "output_type": "execute_result"
    }
   ],
   "source": [
    "np.random.rand(10)"
   ]
  },
  {
   "cell_type": "code",
   "execution_count": 30,
   "id": "a375d4c1",
   "metadata": {},
   "outputs": [
    {
     "data": {
      "text/plain": [
       "array([[0.59087276, 0.57432525, 0.65320082, 0.65210327, 0.43141844],\n",
       "       [0.8965466 , 0.36756187, 0.43586493, 0.89192336, 0.80619399],\n",
       "       [0.70388858, 0.10022689, 0.91948261, 0.7142413 , 0.99884701]])"
      ]
     },
     "execution_count": 30,
     "metadata": {},
     "output_type": "execute_result"
    }
   ],
   "source": [
    "# 3행5열의 난수 생성\n",
    "np.random.rand(3,5)"
   ]
  },
  {
   "cell_type": "markdown",
   "id": "c906edb7",
   "metadata": {},
   "source": [
    "randn 함수는 기댓값이 0이고 표준편차가 1인 표준 정규 분포(standard normal distribution)를 따르는 난수를 생성한다. 인수 사용법은 rand 명령과 같다."
   ]
  },
  {
   "cell_type": "code",
   "execution_count": 32,
   "id": "9ba96869",
   "metadata": {},
   "outputs": [
    {
     "data": {
      "text/plain": [
       "array([-0.76991607,  0.53924919, -0.67433266,  0.03183056, -0.63584608,\n",
       "        0.67643329,  0.57659082, -0.20829876,  0.39600671, -1.09306151])"
      ]
     },
     "execution_count": 32,
     "metadata": {},
     "output_type": "execute_result"
    }
   ],
   "source": [
    "# 기댓값이 0 이고 표준편차가 1인 표준 정규 분포를 따르는 난수 생성\n",
    "np.random.randn(10)"
   ]
  },
  {
   "cell_type": "code",
   "execution_count": 35,
   "id": "4b9cb436",
   "metadata": {},
   "outputs": [
    {
     "data": {
      "text/plain": [
       "array([[ 0.84436298, -1.00021535, -1.5447711 ,  1.18802979,  0.31694261],\n",
       "       [ 0.92085882,  0.31872765,  0.85683061, -0.65102559, -1.03424284],\n",
       "       [ 0.68159452, -0.80340966, -0.68954978, -0.4555325 ,  0.01747916]])"
      ]
     },
     "execution_count": 35,
     "metadata": {},
     "output_type": "execute_result"
    }
   ],
   "source": [
    "# 3행5열 난수 생성\n",
    "np.random.randn(3, 5)"
   ]
  },
  {
   "cell_type": "markdown",
   "id": "d5fd41cf",
   "metadata": {},
   "source": [
    "randint 함수는 다음과 같은 인수를 가진다.\n",
    "numpy.random.randint(low, high=None, size=None)\n",
    "\n",
    "만약 high를 입력하지 않으면 0과 low사이의 숫자를, high를 입력하면 low와 high는 사이의 숫자를 출력한다. size는 난수의 숫자이다.\n",
    "\n"
   ]
  },
  {
   "cell_type": "code",
   "execution_count": 40,
   "id": "3573e539",
   "metadata": {},
   "outputs": [
    {
     "data": {
      "text/plain": [
       "array([0, 8, 6, 8, 9, 8, 3, 6, 1, 7])"
      ]
     },
     "execution_count": 40,
     "metadata": {},
     "output_type": "execute_result"
    }
   ],
   "source": [
    "np.random.randint(10, size = 10)"
   ]
  },
  {
   "cell_type": "code",
   "execution_count": 41,
   "id": "35cdacbb",
   "metadata": {},
   "outputs": [
    {
     "data": {
      "text/plain": [
       "array([14, 19, 12, 10, 18, 12, 17, 18, 14, 14])"
      ]
     },
     "execution_count": 41,
     "metadata": {},
     "output_type": "execute_result"
    }
   ],
   "source": [
    "np.random.randint(10, 20, size=10)"
   ]
  },
  {
   "cell_type": "code",
   "execution_count": 43,
   "id": "a2559787",
   "metadata": {},
   "outputs": [
    {
     "data": {
      "text/plain": [
       "array([[16, 17, 19, 11, 19],\n",
       "       [16, 10, 13, 18, 14],\n",
       "       [11, 14, 15, 10, 13]])"
      ]
     },
     "execution_count": 43,
     "metadata": {},
     "output_type": "execute_result"
    }
   ],
   "source": [
    "# 10과 20 사이의 3행5열의 정수형 난수\n",
    "np.random.randint(10, 20, size=(3, 5))"
   ]
  },
  {
   "cell_type": "markdown",
   "id": "11aef79e",
   "metadata": {},
   "source": [
    "# 연습 문제 3.5.1\n",
    "동전을 10번 던져 앞면(숫자 1)과 뒷면(숫자 0)이 나오는 가상 실험을 파이썬으로 작성한다.\n",
    "주사위를 100번 던져서 나오는 숫자의 평균을 구하라."
   ]
  },
  {
   "cell_type": "code",
   "execution_count": 46,
   "id": "17ecb8fa",
   "metadata": {},
   "outputs": [
    {
     "data": {
      "text/plain": [
       "array([1, 0, 0, 1, 1, 1, 1, 0, 0, 1])"
      ]
     },
     "execution_count": 46,
     "metadata": {},
     "output_type": "execute_result"
    }
   ],
   "source": [
    "np.random.randint(0, 1+1, size = 10)"
   ]
  },
  {
   "cell_type": "markdown",
   "id": "dd19ac1f",
   "metadata": {},
   "source": [
    "# 연습 문제 3.5.2\n",
    "가격이 10,000원인 주식이 있다. <br>\n",
    "이 주식의 일간 수익률(%)은 기댓값이 0%이고 표준편차가 1%인 표준 정규 분포를 따른다고 하자. <br>\n",
    "250일 동안의 주가를 무작위로 생성하라."
   ]
  },
  {
   "cell_type": "code",
   "execution_count": 64,
   "id": "140a287e",
   "metadata": {
    "scrolled": false
   },
   "outputs": [
    {
     "data": {
      "text/plain": [
       "array([ 11355.19909889,   2166.64028515,   7861.27206432,  10122.8686465 ,\n",
       "        17172.22503017,  22871.87738576,  18214.77477161,   9093.26494511,\n",
       "        -8380.58399739, -12396.45451114,  14701.55079656,    383.26072017,\n",
       "         4838.99667026,   1012.89114885,   -688.99298693,  20978.29541628,\n",
       "        13088.80023079,  10666.22153026,   8858.00874066,   5068.11071375,\n",
       "        11957.71582801,  18707.95161576,   5192.10647519,  20351.35025804,\n",
       "         3532.02556284,   2564.63220947,  22446.177311  ,  20212.94222202,\n",
       "        11031.64893545,  14970.74710802,   -331.28052773,   8358.79305474,\n",
       "         5764.16960893,  19114.9055556 ,  15854.96242882,  28151.16700587,\n",
       "        14799.03813074,  -5471.38367458,   6027.48369674,  14798.95015007,\n",
       "         3445.00061782,   7446.84814759,   7426.12466447,  11788.31265438,\n",
       "        10231.58813729,  18789.23840049,   7029.38009119,   8433.43563729,\n",
       "         5945.50378072,  21962.35150941,  13442.09028332,  16005.92727157,\n",
       "        10853.7485922 ,   8695.35073931,  -1131.18409078,  16791.88949724,\n",
       "         1194.70244269,   5968.2852447 ,  11515.21215215,  12957.57334675,\n",
       "        17031.65075485, -11186.64052099,  27771.48288522,   1193.0577555 ,\n",
       "          339.0564504 ,   -193.98090078,  -2837.93502425,  13628.73694428,\n",
       "        -7660.70955366,  -1128.68359315,  21210.1082955 ,   -147.41061847,\n",
       "        22213.21075514,  16949.36082145,  -3028.80274423,  21349.24500856,\n",
       "         6360.9969536 ,  12881.05867227,  13815.55334795,  10062.89231333,\n",
       "         3659.16305372,  13836.49920966,  22832.2755636 ,  21845.54893979,\n",
       "         4560.4713592 ,  18718.02364661,  11415.71453459,   8557.88678478,\n",
       "          959.46424676, -10119.58442649,   9492.37659879,  15623.3571888 ,\n",
       "        12373.23603415,   3833.81061237,   7289.62782613,  27956.6279044 ,\n",
       "         1926.18620071,  25773.56333081,  12052.65327194,  13039.17035393,\n",
       "         7746.56873822,  -7857.82428903,  12718.19877053,  27673.37112294,\n",
       "        22251.70718833,  10713.19419473,  15000.11854265,  11733.4481567 ,\n",
       "         5040.19689111,   7169.67163996,   5036.67573085,   4975.15480431,\n",
       "        16369.82122682,  38961.30550507,  -3040.54765489,  14101.33976518,\n",
       "         9491.08537892,   8328.79683284,  18502.75081933,  20465.92529454,\n",
       "         8515.15620956,  14172.75615658,  23582.70247939,   7029.08252398,\n",
       "        19110.6260609 ,   5373.18088076,   -576.47424246,  23876.0146849 ,\n",
       "         9744.53616312,   7484.12451972,  -4886.54309561,   5781.19087051,\n",
       "        19638.24205248,  -1504.2333013 ,  17993.70583425,   1366.98111056,\n",
       "         1754.11488572,   9399.86119164,  23339.52180227,   5723.03595113,\n",
       "        10079.22745103,   -937.25268451,  -2374.85298364,  11793.12723087,\n",
       "        15548.01884347,  10714.3611238 ,   5136.61298157,  20030.32146615,\n",
       "        18496.09768333,  21100.64393363,   8890.98607908,  26671.23669079,\n",
       "         7882.07864392,  16964.31361928,  10690.16845623,  15857.65591548,\n",
       "         8226.10912435,   4699.77001517,  17710.75142615,   8992.42487835,\n",
       "        20250.60705376,  -1267.41644064,  15302.82689225,  -3176.81047999,\n",
       "        13043.52132983,   5374.25761006,  14650.06483574,  22436.50981045,\n",
       "        29096.92915802,  -4605.87497096,   9441.9568938 ,  11981.12258978,\n",
       "        10162.20259608,  14907.93931951,  11764.03297286,   3479.6677213 ,\n",
       "       -15584.5291798 ,  23368.87021561,   4411.41083564,  11763.60838569,\n",
       "        23314.41464587,  26378.49912265,  17205.11800429,  14518.22096902,\n",
       "         2126.85587439,   3356.18935762,   2513.82364651,  15879.63456884,\n",
       "        31135.98620624,  13580.04276312,   6067.87741062,  -1353.58223796,\n",
       "         2858.5206545 ,  19972.83438911,  -1224.26187577,   4089.60250741,\n",
       "         2107.16322033,  17833.10163155,   9297.83559443,  -7642.72661715,\n",
       "         4124.30677165,   3302.10919009,  19163.55940127,   -649.13262175,\n",
       "         -462.23072429,  -8942.59146973,  19168.02287694,  16178.67423201,\n",
       "         2475.90639532,   4546.93080544,  -5924.8784451 ,   6146.94977397,\n",
       "         5185.7239897 ,  14418.15867175,   -304.07147687,   4182.15536364,\n",
       "        10812.45008102,   5482.37421582,  16113.23117415,  15387.97339842,\n",
       "        20728.24896167,  17693.79857026,    125.77095638,   8555.20564096,\n",
       "        14463.31876345,  -6750.43700689,  12048.59531034,  14893.53456174,\n",
       "         8491.84718834,  -3407.76099553,   8035.29994858,  20282.02616846,\n",
       "        18927.3879291 ,  17033.91967701,   2910.99871268,  -8859.56050379,\n",
       "        11282.14556321,   9559.57545628, -12966.93453965,   -145.35689165,\n",
       "        11504.19145458,  13355.27428526,  15439.00749633,  11981.43582088,\n",
       "         5060.27280213,  12150.47067381,  12711.60125368,  15997.00951234,\n",
       "        12958.18461799,  12048.46164551])"
      ]
     },
     "execution_count": 64,
     "metadata": {},
     "output_type": "execute_result"
    }
   ],
   "source": [
    "(np.random.randn(250) + 1) * 10000"
   ]
  },
  {
   "cell_type": "markdown",
   "id": "c2971ac6",
   "metadata": {},
   "source": [
    "# 정수 데이터 카운팅\n",
    "이렇게 발생시킨 난수가 실수값이면 히스토그램 등을 사용하여 분석하면 된다. 히스토그램을 시각화 부분에서 나중에 자세히 설명한다. <br>\n",
    "만약 난수가 정수값이면 unique 명령이나 bincount 명령으로 데이터 값을 분석할 수 있다. <br>\n",
    "unique 함수는 데이터에서 중복된 값을 제거하고 중복되지 않는 값의 리스트를 출력한다. return_counts 인수를 True 로 설정하면 각 값을 가진 데이터 갯수도 출력한다."
   ]
  },
  {
   "cell_type": "code",
   "execution_count": 65,
   "id": "12c0c23c",
   "metadata": {},
   "outputs": [
    {
     "data": {
      "text/plain": [
       "array([ 2, 11, 34])"
      ]
     },
     "execution_count": 65,
     "metadata": {},
     "output_type": "execute_result"
    }
   ],
   "source": [
    "np.unique([11,11,2,2,34,34])"
   ]
  },
  {
   "cell_type": "code",
   "execution_count": 71,
   "id": "fcd275c7",
   "metadata": {},
   "outputs": [],
   "source": [
    "a = np.array(['a', 'b', 'b', 'c', 'a', 'd'])\n",
    "index, count = np.unique(a, return_counts=True)"
   ]
  },
  {
   "cell_type": "code",
   "execution_count": 73,
   "id": "bb50b638",
   "metadata": {},
   "outputs": [
    {
     "data": {
      "text/plain": [
       "array(['a', 'b', 'c', 'd'], dtype='<U1')"
      ]
     },
     "execution_count": 73,
     "metadata": {},
     "output_type": "execute_result"
    }
   ],
   "source": [
    "# 어떤 값으로 구성되어 있는지\n",
    "index"
   ]
  },
  {
   "cell_type": "code",
   "execution_count": 75,
   "id": "9ea63c8c",
   "metadata": {
    "scrolled": true
   },
   "outputs": [
    {
     "data": {
      "text/plain": [
       "array([2, 2, 1, 1], dtype=int64)"
      ]
     },
     "execution_count": 75,
     "metadata": {},
     "output_type": "execute_result"
    }
   ],
   "source": [
    "# 몇 개의 숫자를 갖고 있는지\n",
    "count"
   ]
  },
  {
   "cell_type": "markdown",
   "id": "9dd30894",
   "metadata": {},
   "source": [
    "그러나 unique 함수는 데이터에 존재하는 값에 대해서만 갯수를 세므로 데이터 값이 나올 수 있음에도 불구하고 데이터가 하나도 없는 경우에는 정보를 주지 않는다. <br>\n",
    "예를 들어 주사위를 10번 던졌는데 6이 한 번도 나오지 않으면 이 값을 0으로 세어주지 않는다.\n",
    "\n",
    "따라서 데이터가 주사위를 던졌을 때 나오는 수처럼 특정 범위안의 수인 경우에는 bincount 함수에 minlength 인수를 설정하여 쓰는 것이 더 편리하다. <br> bincount 함수는 0 부터 minlength - 1 까지의 숫자에 대해 각각 카운트를 한다. 데이터가 없을 경우에는 카운트 값이 0이 된다."
   ]
  },
  {
   "cell_type": "code",
   "execution_count": 80,
   "id": "893d5f06",
   "metadata": {},
   "outputs": [
    {
     "data": {
      "text/plain": [
       "array([0, 2, 3, 1, 0, 0], dtype=int64)"
      ]
     },
     "execution_count": 80,
     "metadata": {},
     "output_type": "execute_result"
    }
   ],
   "source": [
    "# 배열 내에 0 ~ 5까지의 수가 얼마나 있는지 출력\n",
    "np.bincount([1,1,2,2,2,3], minlength = 5 + 1)"
   ]
  },
  {
   "cell_type": "code",
   "execution_count": null,
   "id": "c74fee7b",
   "metadata": {},
   "outputs": [],
   "source": []
  }
 ],
 "metadata": {
  "kernelspec": {
   "display_name": "Python 3 (ipykernel)",
   "language": "python",
   "name": "python3"
  },
  "language_info": {
   "codemirror_mode": {
    "name": "ipython",
    "version": 3
   },
   "file_extension": ".py",
   "mimetype": "text/x-python",
   "name": "python",
   "nbconvert_exporter": "python",
   "pygments_lexer": "ipython3",
   "version": "3.7.10"
  }
 },
 "nbformat": 4,
 "nbformat_minor": 5
}
